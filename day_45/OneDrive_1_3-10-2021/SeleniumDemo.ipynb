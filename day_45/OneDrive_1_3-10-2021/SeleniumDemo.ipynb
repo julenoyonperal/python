{
 "cells": [
  {
   "cell_type": "markdown",
   "metadata": {},
   "source": [
    "# Web Scraping with Python Using Selenium  \n",
    "### Demo of scraping location details from Panera Bread website"
   ]
  },
  {
   "attachments": {},
   "cell_type": "markdown",
   "metadata": {},
   "source": [
    "**Resources:**  \n",
    "* Downloading/Installation: https://selenium-python.readthedocs.io/installation.html  \n",
    "* Getting started and using special keys: https://selenium-python.readthedocs.io/getting-started.html  \n",
    "* Locating elements: https://selenium-python.readthedocs.io/locating-elements.html  \n",
    "\n",
    "**Useful Code Snippets:**  \n",
    "to run the driver and get a link:\n",
    "```\n",
    "    link = ''\n",
    "    driver = Chrome(r\"C:\\Users\\lvincent\\/Documents\\chromedriver87.exe\")\n",
    "    driver.get(link)\n",
    "```\n",
    "to slow down the scraping (add after each driver.get(link)):\n",
    "```\n",
    "    driver.implicitly_wait(10)         ->makes the driver wait up to 10 seconds for the page to completely load\n",
    "    time.sleep(random.randint(1,3))    ->sleeps (pauses run) either 1 or 2 or 3 seconds\n",
    "```\n",
    "common ways to locate elements:\n",
    "```\n",
    "    driver.find_element_by_xpath('').text                  ->using xpath\n",
    "    driver.find_element_by_xpath('').get_attribute(\"href\") ->to get information out of attributes, e.g. grabbing a link\n",
    "    driver.find_element_by_tag_name('body').text           ->using the tag name\n",
    "    driver.find_elements_by_tag_name('div')                ->returns a list of elements that match, not just the first\n",
    "    driver.find_element_by_xpath('').get_attribute(\"innerHTML\") ->to get contents of script tags or other tags\n",
    "```\n",
    "for getting page with selenium but scraping with BeautifulSoup:\n",
    "```\n",
    "    content = driver.find_element_by_tag_name('body').get_attribute(\"innerHTML\")\n",
    "    soup = BeautifulSoup(content, 'lxml')\n",
    "```\n",
    "to get current url, useful when redirected:\n",
    "```\n",
    "    driver.current_url\n",
    "```\n",
    "**Other Useful Resources:**  \n",
    "* For Chrome download driver from https://chromedriver.chromium.org/downloads and save where you can find it (may need to update if you version of Chrome gets updated)\n",
    "* XPaths reference: https://www.w3schools.com/xml/xpath_syntax.asp  "
   ]
  },
  {
   "cell_type": "code",
   "execution_count": 30,
   "metadata": {},
   "outputs": [],
   "source": [
    "from selenium.webdriver import Chrome\n",
    "from selenium.webdriver.common.keys import Keys \n",
    "import time\n",
    "import pandas as pd\n",
    "import re\n",
    "import json\n",
    "import numpy as np\n",
    "import requests\n",
    "from bs4 import BeautifulSoup\n",
    "import csv\n",
    "import time\n",
    "import random"
   ]
  },
  {
   "cell_type": "markdown",
   "metadata": {},
   "source": [
    "## Initial testing to find data on webpage"
   ]
  },
  {
   "cell_type": "code",
   "execution_count": 94,
   "metadata": {},
   "outputs": [],
   "source": [
    "link = 'https://locations.panerabread.com/al/alabaster/100-s-colonial-drive.html'\n",
    "driver = Chrome(r\"C:\\Users\\lvincent\\/Documents\\chromedriver87.exe\")\n",
    "driver.get(link)"
   ]
  },
  {
   "cell_type": "code",
   "execution_count": 7,
   "metadata": {},
   "outputs": [
    {
     "data": {
      "text/plain": [
       "<selenium.webdriver.remote.webelement.WebElement (session=\"15ff8e856d35a00bb70881ea5e04b1f7\", element=\"c3a2e68a-e0dd-4576-bb7a-459dbbe0a401\")>"
      ]
     },
     "execution_count": 7,
     "metadata": {},
     "output_type": "execute_result"
    }
   ],
   "source": [
    "##try to find brand name using xpath, returns only information about the webelement:\n",
    "driver.find_element_by_xpath('//*[@id=\"location-name\"]/span[1]')"
   ]
  },
  {
   "cell_type": "code",
   "execution_count": 3,
   "metadata": {},
   "outputs": [
    {
     "data": {
      "text/plain": [
       "'Panera Bread'"
      ]
     },
     "execution_count": 3,
     "metadata": {},
     "output_type": "execute_result"
    }
   ],
   "source": [
    "##must use .text to get the contents of the tag:\n",
    "driver.find_element_by_xpath('//*[@id=\"location-name\"]/span[1]').text"
   ]
  },
  {
   "cell_type": "code",
   "execution_count": 96,
   "metadata": {},
   "outputs": [
    {
     "data": {
      "text/plain": [
       "'Alabaster -S Colonial Drive'"
      ]
     },
     "execution_count": 96,
     "metadata": {},
     "output_type": "execute_result"
    }
   ],
   "source": [
    "##can use the same method to get the merchant name and most other fields of interest\n",
    "driver.find_element_by_xpath('//*[@id=\"location-name\"]/span[2]').text"
   ]
  },
  {
   "cell_type": "code",
   "execution_count": 8,
   "metadata": {},
   "outputs": [
    {
     "data": {
      "text/plain": [
       "''"
      ]
     },
     "execution_count": 8,
     "metadata": {},
     "output_type": "execute_result"
    }
   ],
   "source": [
    "##for latitude and longitude info is within attribute so .text returns nothing\n",
    "driver.find_element_by_xpath('//*[@id=\"main\"]/div[2]/div[2]/div/div/div[2]/div[1]/span[1]/meta[1]').text"
   ]
  },
  {
   "cell_type": "code",
   "execution_count": 9,
   "metadata": {},
   "outputs": [
    {
     "data": {
      "text/plain": [
       "'33.2276333'"
      ]
     },
     "execution_count": 9,
     "metadata": {},
     "output_type": "execute_result"
    }
   ],
   "source": [
    "##to get contents of attribute use .get_attribute:\n",
    "driver.find_element_by_xpath('//*[@id=\"main\"]/div[2]/div[2]/div/div/div[2]/div[1]/span[1]/meta[1]').get_attribute(\"content\")"
   ]
  },
  {
   "cell_type": "code",
   "execution_count": 20,
   "metadata": {},
   "outputs": [
    {
     "data": {
      "text/plain": [
       "'Delivery Available\\nDine In\\nCurbside\\nKiosk\\nRapid Pick-up'"
      ]
     },
     "execution_count": 20,
     "metadata": {},
     "output_type": "execute_result"
    }
   ],
   "source": [
    "##Location features are a list but .text combines the text as one string:\n",
    "driver.find_element_by_xpath('//*[@id=\"main\"]/div[2]/div[2]/div/div/div[2]/div[3]/div[1]/ul').text.strip()"
   ]
  },
  {
   "cell_type": "code",
   "execution_count": 21,
   "metadata": {},
   "outputs": [
    {
     "data": {
      "text/plain": [
       "['Delivery Available', 'Dine In', 'Curbside', 'Kiosk', 'Rapid Pick-up']"
      ]
     },
     "execution_count": 21,
     "metadata": {},
     "output_type": "execute_result"
    }
   ],
   "source": [
    "##This can be split into a list:\n",
    "locationFeatures = driver.find_element_by_xpath('//*[@id=\"main\"]/div[2]/div[2]/div/div/div[2]/div[3]/div[1]/ul').text.strip()\n",
    "locationFeatures.split('\\n')"
   ]
  },
  {
   "cell_type": "code",
   "execution_count": 22,
   "metadata": {},
   "outputs": [
    {
     "data": {
      "text/plain": [
       "'[{\"day\":\"MONDAY\",\"intervals\":[{\"end\":2100,\"start\":600}]},{\"day\":\"TUESDAY\",\"intervals\":[{\"end\":2100,\"start\":600}]},{\"day\":\"WEDNESDAY\",\"intervals\":[{\"end\":2100,\"start\":600}]},{\"day\":\"THURSDAY\",\"intervals\":[{\"end\":2100,\"start\":600}]},{\"day\":\"FRIDAY\",\"intervals\":[{\"end\":2100,\"start\":600}]},{\"day\":\"SATURDAY\",\"intervals\":[{\"end\":2100,\"start\":600}]},{\"day\":\"SUNDAY\",\"intervals\":[{\"end\":2100,\"start\":600}]}]'"
      ]
     },
     "execution_count": 22,
     "metadata": {},
     "output_type": "execute_result"
    }
   ],
   "source": [
    "##location hours returns as json:\n",
    "driver.find_element_by_xpath('//*[@id=\"main\"]/div[2]/div[2]/div/div/div[2]/div[2]/div/div').get_attribute(\"data-days\")"
   ]
  },
  {
   "cell_type": "code",
   "execution_count": 24,
   "metadata": {},
   "outputs": [
    {
     "name": "stdout",
     "output_type": "stream",
     "text": [
      "Panera Bread\n",
      "Alabaster -S Colonial Drive\n",
      "33.2276333\n",
      "-86.8046543\n",
      "100 S Colonial Drive\n",
      "Suite 200\n",
      "Alabaster\n",
      "AL\n",
      "35007\n",
      "2056644525\n",
      "United States\n",
      "['Delivery Available', 'Dine In', 'Curbside', 'Kiosk', 'Rapid Pick-up']\n",
      "[{\"day\":\"MONDAY\",\"intervals\":[{\"end\":2100,\"start\":600}]},{\"day\":\"TUESDAY\",\"intervals\":[{\"end\":2100,\"start\":600}]},{\"day\":\"WEDNESDAY\",\"intervals\":[{\"end\":2100,\"start\":600}]},{\"day\":\"THURSDAY\",\"intervals\":[{\"end\":2100,\"start\":600}]},{\"day\":\"FRIDAY\",\"intervals\":[{\"end\":2100,\"start\":600}]},{\"day\":\"SATURDAY\",\"intervals\":[{\"end\":2100,\"start\":600}]},{\"day\":\"SUNDAY\",\"intervals\":[{\"end\":2100,\"start\":600}]}]\n"
     ]
    }
   ],
   "source": [
    "##consolidate fields and double check results:\n",
    "brand_name = driver.find_element_by_xpath('//*[@id=\"location-name\"]/span[1]').text.strip()\n",
    "merchant_name = driver.find_element_by_xpath('//*[@id=\"location-name\"]/span[2]').text.strip()\n",
    "latitude = driver.find_element_by_xpath('//*[@id=\"main\"]/div[2]/div[2]/div/div/div[2]/div[1]/span[1]/meta[1]').get_attribute(\"content\").strip()\n",
    "longitude = driver.find_element_by_xpath('//*[@id=\"main\"]/div[2]/div[2]/div/div/div[2]/div[1]/span[1]/meta[2]').get_attribute(\"content\").strip()\n",
    "address1 = driver.find_element_by_xpath('//*[@id=\"address\"]/span[1]/span[1]').text.strip()\n",
    "address2 = driver.find_element_by_xpath('//*[@id=\"address\"]/span[1]/span[2]').text.strip()\n",
    "city = driver.find_element_by_xpath('//*[@id=\"address\"]/span[2]/span[1]').text.strip()\n",
    "state = driver.find_element_by_xpath('//*[@id=\"address\"]/abbr[1]').text.strip()\n",
    "postalCode = driver.find_element_by_xpath('//*[@id=\"address\"]/span[3]').text.strip()\n",
    "country = driver.find_element_by_xpath('//*[@id=\"address\"]/abbr[2]').get_attribute(\"title\")\n",
    "telephone = driver.find_element_by_xpath('//*[@id=\"telephone\"]').text.strip().replace(')','').replace('(','').replace(' ','').replace('-','')\n",
    "locationFeatures = driver.find_element_by_xpath('//*[@id=\"main\"]/div[2]/div[2]/div/div/div[2]/div[3]/div[1]/ul').text.strip()\n",
    "locationFeatures = locationFeatures.split('\\n')\n",
    "locationHours = driver.find_element_by_xpath('//*[@id=\"main\"]/div[2]/div[2]/div/div/div[2]/div[2]/div/div').get_attribute(\"data-days\")\n",
    "\n",
    "print(brand_name)\n",
    "print(merchant_name)\n",
    "print(latitude)\n",
    "print(longitude)\n",
    "print(address1)\n",
    "print(address2)\n",
    "print(city)\n",
    "print(state)\n",
    "print(postalCode)\n",
    "print(telephone)\n",
    "print(country)\n",
    "print(locationFeatures)\n",
    "print(locationHours)"
   ]
  },
  {
   "cell_type": "markdown",
   "metadata": {},
   "source": [
    "## Getting a list of individual merchant links"
   ]
  },
  {
   "cell_type": "code",
   "execution_count": 97,
   "metadata": {},
   "outputs": [],
   "source": [
    "##first looking at main find location page with links to states:\n",
    "link = 'https://locations.panerabread.com/'\n",
    "driver = Chrome(r\"C:\\Users\\lvincent\\/Documents\\chromedriver87.exe\")\n",
    "driver.get(link)"
   ]
  },
  {
   "cell_type": "code",
   "execution_count": 50,
   "metadata": {
    "scrolled": true
   },
   "outputs": [
    {
     "data": {
      "text/plain": [
       "['https://locations.panerabread.com/al.html',\n",
       " 'https://locations.panerabread.com/az.html',\n",
       " 'https://locations.panerabread.com/ar.html',\n",
       " 'https://locations.panerabread.com/ca.html',\n",
       " 'https://locations.panerabread.com/co.html',\n",
       " 'https://locations.panerabread.com/ct.html',\n",
       " 'https://locations.panerabread.com/de.html',\n",
       " 'https://locations.panerabread.com/fl.html',\n",
       " 'https://locations.panerabread.com/ga.html',\n",
       " 'https://locations.panerabread.com/id.html',\n",
       " 'https://locations.panerabread.com/il.html',\n",
       " 'https://locations.panerabread.com/in.html',\n",
       " 'https://locations.panerabread.com/ia.html',\n",
       " 'https://locations.panerabread.com/ks.html',\n",
       " 'https://locations.panerabread.com/ky.html',\n",
       " 'https://locations.panerabread.com/la.html',\n",
       " 'https://locations.panerabread.com/me.html',\n",
       " 'https://locations.panerabread.com/md.html',\n",
       " 'https://locations.panerabread.com/ma.html',\n",
       " 'https://locations.panerabread.com/mi.html',\n",
       " 'https://locations.panerabread.com/mn.html',\n",
       " 'https://locations.panerabread.com/ms.html',\n",
       " 'https://locations.panerabread.com/mo.html',\n",
       " 'https://locations.panerabread.com/mt.html',\n",
       " 'https://locations.panerabread.com/ne.html',\n",
       " 'https://locations.panerabread.com/nv.html',\n",
       " 'https://locations.panerabread.com/nh.html',\n",
       " 'https://locations.panerabread.com/nj.html',\n",
       " 'https://locations.panerabread.com/nm.html',\n",
       " 'https://locations.panerabread.com/ny.html',\n",
       " 'https://locations.panerabread.com/nc.html',\n",
       " 'https://locations.panerabread.com/nd.html',\n",
       " 'https://locations.panerabread.com/oh.html',\n",
       " 'https://locations.panerabread.com/ok.html',\n",
       " 'https://locations.panerabread.com/on.html',\n",
       " 'https://locations.panerabread.com/or.html',\n",
       " 'https://locations.panerabread.com/pa.html',\n",
       " 'https://locations.panerabread.com/ri.html',\n",
       " 'https://locations.panerabread.com/sc.html',\n",
       " 'https://locations.panerabread.com/sd.html',\n",
       " 'https://locations.panerabread.com/tn.html',\n",
       " 'https://locations.panerabread.com/tx.html',\n",
       " 'https://locations.panerabread.com/vt.html',\n",
       " 'https://locations.panerabread.com/va.html',\n",
       " 'https://locations.panerabread.com/wa.html',\n",
       " 'https://locations.panerabread.com/dc/washington.html',\n",
       " 'https://locations.panerabread.com/wv.html',\n",
       " 'https://locations.panerabread.com/wi.html',\n",
       " 'https://locations.panerabread.com/wy/cheyenne/2440-dell-range-blvd.html']"
      ]
     },
     "execution_count": 50,
     "metadata": {},
     "output_type": "execute_result"
    }
   ],
   "source": [
    "##to find and grab all the state page links:\n",
    "# driver.find_element_by_class_name('c-directory-list-content-item')\n",
    "# driver.find_elements_by_class_name('c-directory-list-content-item-link')\n",
    "test = driver.find_elements_by_class_name('c-directory-list-content-item-link')\n",
    "# for t in test:\n",
    "#     print(t.text)\n",
    "\n",
    "# test[0].get_attribute('href')\n",
    "\n",
    "links = []\n",
    "for t in test:\n",
    "    link = t.get_attribute('href')\n",
    "    links.append(link)\n",
    "links"
   ]
  },
  {
   "cell_type": "code",
   "execution_count": 51,
   "metadata": {},
   "outputs": [
    {
     "data": {
      "text/plain": [
       "['https://locations.panerabread.com/al/alabaster/100-s-colonial-drive.html',\n",
       " 'https://locations.panerabread.com/al/athens/1323-us-highway-72-e.html',\n",
       " 'https://locations.panerabread.com/al/auburn.html',\n",
       " 'https://locations.panerabread.com/al/birmingham.html',\n",
       " 'https://locations.panerabread.com/al/cullman/1118-cullman-shopping-center-nw.html',\n",
       " 'https://locations.panerabread.com/al/decatur/1241-point-mallard-pkwy-al-67.html',\n",
       " 'https://locations.panerabread.com/al/dothan/3515-ross-clark-circle.html',\n",
       " 'https://locations.panerabread.com/al/enterprise/847-boll-weevil-circle.html',\n",
       " 'https://locations.panerabread.com/al/florence/304-cox-creek-pkwy.html',\n",
       " 'https://locations.panerabread.com/al/gadsden/508-e-meighan-boulevard.html',\n",
       " 'https://locations.panerabread.com/al/gardendale/521-fieldstown-rd.html',\n",
       " 'https://locations.panerabread.com/al/hoover/1790-riverchase-dr.html',\n",
       " 'https://locations.panerabread.com/al/huntsville.html',\n",
       " 'https://locations.panerabread.com/al/madison/8179-highway-72-w.html',\n",
       " 'https://locations.panerabread.com/al/mobile.html',\n",
       " 'https://locations.panerabread.com/al/montgomery/7224-eastchase-parkway.html',\n",
       " 'https://locations.panerabread.com/al/oxford/21-commons-way.html',\n",
       " 'https://locations.panerabread.com/al/prattville/1825-sugar-exchange.html',\n",
       " 'https://locations.panerabread.com/al/tuscaloosa/1800-mcfarland-blvd-e.html',\n",
       " 'https://locations.panerabread.com/al/vestavia-hills/700-montgomery-hwy.html']"
      ]
     },
     "execution_count": 51,
     "metadata": {},
     "output_type": "execute_result"
    }
   ],
   "source": [
    "##testing to find all the city links on state pages\n",
    "link = 'https://locations.panerabread.com/al.html'\n",
    "driver.get(link)\n",
    "\n",
    "test = driver.find_elements_by_class_name('c-directory-list-content-item-link')\n",
    "\n",
    "links = []\n",
    "for t in test:\n",
    "    link = t.get_attribute('href')\n",
    "    links.append(link)\n",
    "links"
   ]
  },
  {
   "cell_type": "code",
   "execution_count": 54,
   "metadata": {},
   "outputs": [
    {
     "name": "stdout",
     "output_type": "stream",
     "text": [
      "5 : https://locations.panerabread.com/al/alabaster/100-s-colonial-drive.html\n",
      "5 : https://locations.panerabread.com/al/athens/1323-us-highway-72-e.html\n",
      "4 : https://locations.panerabread.com/al/auburn.html\n",
      "4 : https://locations.panerabread.com/al/birmingham.html\n",
      "5 : https://locations.panerabread.com/al/cullman/1118-cullman-shopping-center-nw.html\n"
     ]
    }
   ],
   "source": [
    "# count = len(re.findall(\"/\", links[0]))\n",
    "# print(count)\n",
    "\n",
    "test_links = links[0:5]\n",
    "for t in test_links:\n",
    "    count = len(re.findall(\"/\", t))\n",
    "    print(count, \":\", t)"
   ]
  },
  {
   "cell_type": "code",
   "execution_count": 63,
   "metadata": {},
   "outputs": [
    {
     "data": {
      "text/plain": [
       "['https://locations.panerabread.com/al/auburn/1550-opelika-rd.html',\n",
       " 'https://locations.panerabread.com/al/auburn/231-mell-st.html']"
      ]
     },
     "execution_count": 63,
     "metadata": {},
     "output_type": "execute_result"
    }
   ],
   "source": [
    "##testing to find all the individual merchant links on city pages\n",
    "link = 'https://locations.panerabread.com/al/auburn.html'\n",
    "driver.get(link)\n",
    "\n",
    "test = driver.find_elements_by_class_name('c-location-grid-item-link')\n",
    "\n",
    "# links = []\n",
    "# for t in test:\n",
    "#     link = t.get_attribute('href')\n",
    "#     links.append(link)\n",
    "# links\n",
    "\n",
    "# driver.find_element_by_class_name('c-location-grid-item-link').text\n",
    "\n",
    "links = []\n",
    "for t in test:\n",
    "    if t.text == 'View Location Details':\n",
    "        link = t.get_attribute('href')\n",
    "        links.append(link)\n",
    "links"
   ]
  },
  {
   "cell_type": "code",
   "execution_count": 82,
   "metadata": {},
   "outputs": [],
   "source": [
    "##function to get all individual merchant web links:\n",
    "def getStoreLinks():\n",
    "    statelinks = []\n",
    "    citylinks = []\n",
    "    storelinks = []\n",
    "\n",
    "    mainlink = 'https://locations.panerabread.com/'\n",
    "    driver = Chrome(r\"C:\\Users\\lvincent\\/Documents\\chromedriver87.exe\")\n",
    "    driver.get(mainlink)\n",
    "\n",
    "   \n",
    "    test_list = driver.find_elements_by_class_name('c-directory-list-content-item-link')\n",
    "    \n",
    "    for t in test_list:\n",
    "        link = t.get_attribute('href')\n",
    "        count = len(re.findall(\"/\", link))\n",
    "#         print(link)\n",
    "        if count >= 5:\n",
    "            storelinks.append(link)\n",
    "        elif count >=4:\n",
    "            citylinks.append(link)\n",
    "        else:\n",
    "            statelinks.append(link)\n",
    "            \n",
    "    ##for testing on one state:\n",
    "#     statelinks = ['https://locations.panerabread.com/al.html']\n",
    "\n",
    "    for statelink in statelinks:\n",
    "        driver.get(statelink)\n",
    "        time.sleep(random.randint(0,2)) #sleeps either 0 or 1 or 2 seconds\n",
    "        \n",
    "        test_list2 = driver.find_elements_by_class_name('c-directory-list-content-item-link')\n",
    "        \n",
    "        for t in test_list2:\n",
    "            link = t.get_attribute('href')\n",
    "            count = len(re.findall(\"/\", link))\n",
    "#             print(link)\n",
    "            if count >= 5:\n",
    "                storelinks.append(link)\n",
    "            else:\n",
    "                citylinks.append(link)\n",
    "\n",
    "    for citylink in citylinks:\n",
    "        driver.get(statelink)\n",
    "        time.sleep(random.randint(0,2)) #sleeps either 0 or 1 or 2 seconds\n",
    "        \n",
    "        test_list3 = driver.find_elements_by_class_name('c-location-grid-item-link')\n",
    "        \n",
    "        for t in test_list3:\n",
    "            if t.text == 'View Location Details':\n",
    "                link = t.get_attribute('href')\n",
    "                count = len(re.findall(\"/\", link))\n",
    "#                 print(link)\n",
    "                if count >= 5:\n",
    "                    storelinks.append(link)\n",
    "\n",
    "    driver.close()\n",
    "    \n",
    "    return storelinks"
   ]
  },
  {
   "cell_type": "code",
   "execution_count": 77,
   "metadata": {},
   "outputs": [
    {
     "name": "stdout",
     "output_type": "stream",
     "text": [
      "https://locations.panerabread.com/al/alabaster/100-s-colonial-drive.html\n",
      "https://locations.panerabread.com/al/athens/1323-us-highway-72-e.html\n",
      "https://locations.panerabread.com/al/auburn.html\n",
      "https://locations.panerabread.com/al/birmingham.html\n",
      "https://locations.panerabread.com/al/cullman/1118-cullman-shopping-center-nw.html\n",
      "https://locations.panerabread.com/al/decatur/1241-point-mallard-pkwy-al-67.html\n",
      "https://locations.panerabread.com/al/dothan/3515-ross-clark-circle.html\n",
      "https://locations.panerabread.com/al/enterprise/847-boll-weevil-circle.html\n",
      "https://locations.panerabread.com/al/florence/304-cox-creek-pkwy.html\n",
      "https://locations.panerabread.com/al/gadsden/508-e-meighan-boulevard.html\n",
      "https://locations.panerabread.com/al/gardendale/521-fieldstown-rd.html\n",
      "https://locations.panerabread.com/al/hoover/1790-riverchase-dr.html\n",
      "https://locations.panerabread.com/al/huntsville.html\n",
      "https://locations.panerabread.com/al/madison/8179-highway-72-w.html\n",
      "https://locations.panerabread.com/al/mobile.html\n",
      "https://locations.panerabread.com/al/montgomery/7224-eastchase-parkway.html\n",
      "https://locations.panerabread.com/al/oxford/21-commons-way.html\n",
      "https://locations.panerabread.com/al/prattville/1825-sugar-exchange.html\n",
      "https://locations.panerabread.com/al/tuscaloosa/1800-mcfarland-blvd-e.html\n",
      "https://locations.panerabread.com/al/vestavia-hills/700-montgomery-hwy.html\n"
     ]
    },
    {
     "data": {
      "text/plain": [
       "['https://locations.panerabread.com/wy/cheyenne/2440-dell-range-blvd.html',\n",
       " 'https://locations.panerabread.com/al/alabaster/100-s-colonial-drive.html',\n",
       " 'https://locations.panerabread.com/al/athens/1323-us-highway-72-e.html',\n",
       " 'https://locations.panerabread.com/al/cullman/1118-cullman-shopping-center-nw.html',\n",
       " 'https://locations.panerabread.com/al/decatur/1241-point-mallard-pkwy-al-67.html',\n",
       " 'https://locations.panerabread.com/al/dothan/3515-ross-clark-circle.html',\n",
       " 'https://locations.panerabread.com/al/enterprise/847-boll-weevil-circle.html',\n",
       " 'https://locations.panerabread.com/al/florence/304-cox-creek-pkwy.html',\n",
       " 'https://locations.panerabread.com/al/gadsden/508-e-meighan-boulevard.html',\n",
       " 'https://locations.panerabread.com/al/gardendale/521-fieldstown-rd.html',\n",
       " 'https://locations.panerabread.com/al/hoover/1790-riverchase-dr.html',\n",
       " 'https://locations.panerabread.com/al/madison/8179-highway-72-w.html',\n",
       " 'https://locations.panerabread.com/al/montgomery/7224-eastchase-parkway.html',\n",
       " 'https://locations.panerabread.com/al/oxford/21-commons-way.html',\n",
       " 'https://locations.panerabread.com/al/prattville/1825-sugar-exchange.html',\n",
       " 'https://locations.panerabread.com/al/tuscaloosa/1800-mcfarland-blvd-e.html',\n",
       " 'https://locations.panerabread.com/al/vestavia-hills/700-montgomery-hwy.html']"
      ]
     },
     "execution_count": 77,
     "metadata": {},
     "output_type": "execute_result"
    }
   ],
   "source": [
    "storelinks = getStoreLinks()\n",
    "storelinks"
   ]
  },
  {
   "cell_type": "markdown",
   "metadata": {},
   "source": [
    "## Running scraper on multiple pages and saving results"
   ]
  },
  {
   "cell_type": "code",
   "execution_count": 32,
   "metadata": {},
   "outputs": [],
   "source": [
    "##function to pull info from all individual merchant web pages:\n",
    "def runpull(driver, link):\n",
    "    ##setup df for results:\n",
    "    column_names = [\"brand_name\",\"merchant_name\",\"latitude\", \"longitude\", \"address1\", \"address2\",\n",
    "                  \"city\",\"state\",\"postalCode\", \"country\", \"telephone\",\"locationFeatures\",\"locationHours\"]\n",
    "    results = pd.DataFrame(columns = column_names)\n",
    "    isBad = False\n",
    "\n",
    "    ##Run scrape:\n",
    "    try:\n",
    "#     if 2 == 2:\n",
    "        driver.get(link)\n",
    "        driver.implicitly_wait(10)\n",
    "        time.sleep(random.randint(1,3)) #sleeps either 1 or 2 or 3 seconds\n",
    "\n",
    "        brand_name = driver.find_element_by_xpath('//*[@id=\"location-name\"]/span[1]').text.strip()\n",
    "        merchant_name = driver.find_element_by_xpath('//*[@id=\"location-name\"]/span[2]').text.strip()\n",
    "        latitude = driver.find_element_by_xpath('//*[@id=\"main\"]/div[2]/div[2]/div/div/div[2]/div[1]/span[1]/meta[1]').get_attribute(\"content\").strip()\n",
    "        longitude = driver.find_element_by_xpath('//*[@id=\"main\"]/div[2]/div[2]/div/div/div[2]/div[1]/span[1]/meta[2]').get_attribute(\"content\").strip()\n",
    "        address1 = driver.find_element_by_xpath('//*[@id=\"address\"]/span[1]/span[1]').text.strip()\n",
    "        try:\n",
    "            address2 = driver.find_element_by_xpath('//*[@id=\"address\"]/span[1]/span[2]').text.strip()\n",
    "        except:\n",
    "            address2 = ''\n",
    "        city = driver.find_element_by_xpath('//*[@id=\"address\"]/span[2]/span[1]').text.strip()\n",
    "        state = driver.find_element_by_xpath('//*[@id=\"address\"]/abbr[1]').text.strip()\n",
    "        postalCode = driver.find_element_by_xpath('//*[@id=\"address\"]/span[3]').text.strip()\n",
    "        country = driver.find_element_by_xpath('//*[@id=\"address\"]/abbr[2]').get_attribute(\"title\")\n",
    "        telephone = driver.find_element_by_xpath('//*[@id=\"telephone\"]').text.strip().replace(')','').replace('(','').replace(' ','').replace('-','')\n",
    "        locationFeatures = driver.find_element_by_xpath('//*[@id=\"main\"]/div[2]/div[2]/div/div/div[2]/div[3]/div[1]/ul').text.strip()\n",
    "        locationFeatures = locationFeatures.split('\\n')\n",
    "        locationHours = driver.find_element_by_xpath('//*[@id=\"main\"]/div[2]/div[2]/div/div/div[2]/div[2]/div/div').get_attribute(\"data-days\")\n",
    "\n",
    "        print(brand_name)\n",
    "        print(merchant_name)\n",
    "        print(latitude)\n",
    "        print(longitude)\n",
    "        print(address1)\n",
    "        print(address2)\n",
    "        print(city)\n",
    "        print(state)\n",
    "        print(postalCode)\n",
    "        print(telephone)\n",
    "        print(country)\n",
    "        print(locationFeatures)\n",
    "        print(locationHours)\n",
    "\n",
    "        new_row = {\n",
    "                  'brand_name': brand_name, \n",
    "                  'merchant_name': merchant_name, \n",
    "                  'latitude': latitude,\n",
    "                  'longitude': longitude,\n",
    "                  'address1': address1, \n",
    "                  'address2': address2,\n",
    "                  'city': city, \n",
    "                  'state': state, \n",
    "                  'postalCode': postalCode, \n",
    "                  'country': country,\n",
    "                  'telephone': telephone,\n",
    "                  'locationFeatures': locationFeatures, \n",
    "                  'locationHours': locationHours\n",
    "                }\n",
    "\n",
    "        results = results.append(new_row, ignore_index=True)\n",
    "\n",
    "    except:\n",
    "        isBad = True\n",
    "  \n",
    "    return results, isBad"
   ]
  },
  {
   "cell_type": "code",
   "execution_count": 31,
   "metadata": {},
   "outputs": [
    {
     "name": "stdout",
     "output_type": "stream",
     "text": [
      "https://locations.panerabread.com/al/alabaster/100-s-colonial-drive.html\n",
      "Panera Bread\n",
      "Alabaster -S Colonial Drive\n",
      "33.2276333\n",
      "-86.8046543\n",
      "100 S Colonial Drive\n",
      "Suite 200\n",
      "Alabaster\n",
      "AL\n",
      "35007\n",
      "2056644525\n",
      "United States\n",
      "['Delivery Available', 'Dine In', 'Curbside', 'Kiosk', 'Rapid Pick-up']\n",
      "[{\"day\":\"MONDAY\",\"intervals\":[{\"end\":2100,\"start\":600}]},{\"day\":\"TUESDAY\",\"intervals\":[{\"end\":2100,\"start\":600}]},{\"day\":\"WEDNESDAY\",\"intervals\":[{\"end\":2100,\"start\":600}]},{\"day\":\"THURSDAY\",\"intervals\":[{\"end\":2100,\"start\":600}]},{\"day\":\"FRIDAY\",\"intervals\":[{\"end\":2100,\"start\":600}]},{\"day\":\"SATURDAY\",\"intervals\":[{\"end\":2100,\"start\":600}]},{\"day\":\"SUNDAY\",\"intervals\":[{\"end\":2100,\"start\":600}]}]\n",
      "https://locations.panerabread.com/al/hoover/1790-riverchase-dr.html\n",
      "Panera Bread\n",
      "Hoover - Riverchase Dr\n",
      "33.3736708\n",
      "-86.8099188\n",
      "1790 Riverchase Dr\n",
      "Suite 104\n",
      "Hoover\n",
      "AL\n",
      "35244\n",
      "2054020023\n",
      "United States\n",
      "['Delivery Available', 'Dine In', 'Drive Thru', 'Curbside', 'Kiosk', 'Rapid Pick-up']\n",
      "[{\"day\":\"MONDAY\",\"intervals\":[{\"end\":2100,\"start\":600}]},{\"day\":\"TUESDAY\",\"intervals\":[{\"end\":2100,\"start\":600}]},{\"day\":\"WEDNESDAY\",\"intervals\":[{\"end\":2100,\"start\":600}]},{\"day\":\"THURSDAY\",\"intervals\":[{\"end\":2100,\"start\":600}]},{\"day\":\"FRIDAY\",\"intervals\":[{\"end\":2100,\"start\":600}]},{\"day\":\"SATURDAY\",\"intervals\":[{\"end\":2100,\"start\":600}]},{\"day\":\"SUNDAY\",\"intervals\":[{\"end\":2100,\"start\":600}]}]\n"
     ]
    },
    {
     "data": {
      "text/html": [
       "<div>\n",
       "<style scoped>\n",
       "    .dataframe tbody tr th:only-of-type {\n",
       "        vertical-align: middle;\n",
       "    }\n",
       "\n",
       "    .dataframe tbody tr th {\n",
       "        vertical-align: top;\n",
       "    }\n",
       "\n",
       "    .dataframe thead th {\n",
       "        text-align: right;\n",
       "    }\n",
       "</style>\n",
       "<table border=\"1\" class=\"dataframe\">\n",
       "  <thead>\n",
       "    <tr style=\"text-align: right;\">\n",
       "      <th></th>\n",
       "      <th>brand_name</th>\n",
       "      <th>merchant_name</th>\n",
       "      <th>latitude</th>\n",
       "      <th>longitude</th>\n",
       "      <th>address1</th>\n",
       "      <th>address2</th>\n",
       "      <th>city</th>\n",
       "      <th>state</th>\n",
       "      <th>postalCode</th>\n",
       "      <th>country</th>\n",
       "      <th>telephone</th>\n",
       "      <th>locationFeatures</th>\n",
       "      <th>locationHours</th>\n",
       "    </tr>\n",
       "  </thead>\n",
       "  <tbody>\n",
       "    <tr>\n",
       "      <td>0</td>\n",
       "      <td>Panera Bread</td>\n",
       "      <td>Alabaster -S Colonial Drive</td>\n",
       "      <td>33.2276333</td>\n",
       "      <td>-86.8046543</td>\n",
       "      <td>100 S Colonial Drive</td>\n",
       "      <td>Suite 200</td>\n",
       "      <td>Alabaster</td>\n",
       "      <td>AL</td>\n",
       "      <td>35007</td>\n",
       "      <td>United States</td>\n",
       "      <td>2056644525</td>\n",
       "      <td>[Delivery Available, Dine In, Curbside, Kiosk,...</td>\n",
       "      <td>[{\"day\":\"MONDAY\",\"intervals\":[{\"end\":2100,\"sta...</td>\n",
       "    </tr>\n",
       "    <tr>\n",
       "      <td>1</td>\n",
       "      <td>Panera Bread</td>\n",
       "      <td>Hoover - Riverchase Dr</td>\n",
       "      <td>33.3736708</td>\n",
       "      <td>-86.8099188</td>\n",
       "      <td>1790 Riverchase Dr</td>\n",
       "      <td>Suite 104</td>\n",
       "      <td>Hoover</td>\n",
       "      <td>AL</td>\n",
       "      <td>35244</td>\n",
       "      <td>United States</td>\n",
       "      <td>2054020023</td>\n",
       "      <td>[Delivery Available, Dine In, Drive Thru, Curb...</td>\n",
       "      <td>[{\"day\":\"MONDAY\",\"intervals\":[{\"end\":2100,\"sta...</td>\n",
       "    </tr>\n",
       "  </tbody>\n",
       "</table>\n",
       "</div>"
      ],
      "text/plain": [
       "     brand_name                merchant_name    latitude    longitude  \\\n",
       "0  Panera Bread  Alabaster -S Colonial Drive  33.2276333  -86.8046543   \n",
       "1  Panera Bread       Hoover - Riverchase Dr  33.3736708  -86.8099188   \n",
       "\n",
       "               address1   address2       city state postalCode        country  \\\n",
       "0  100 S Colonial Drive  Suite 200  Alabaster    AL      35007  United States   \n",
       "1    1790 Riverchase Dr  Suite 104     Hoover    AL      35244  United States   \n",
       "\n",
       "    telephone                                   locationFeatures  \\\n",
       "0  2056644525  [Delivery Available, Dine In, Curbside, Kiosk,...   \n",
       "1  2054020023  [Delivery Available, Dine In, Drive Thru, Curb...   \n",
       "\n",
       "                                       locationHours  \n",
       "0  [{\"day\":\"MONDAY\",\"intervals\":[{\"end\":2100,\"sta...  \n",
       "1  [{\"day\":\"MONDAY\",\"intervals\":[{\"end\":2100,\"sta...  "
      ]
     },
     "execution_count": 31,
     "metadata": {},
     "output_type": "execute_result"
    }
   ],
   "source": [
    "##Run web scraping and save results:\n",
    "\n",
    "##make output table:\n",
    "column_names = [\"brand_name\",\"merchant_name\",\"latitude\", \"longitude\", \"address1\", \"address2\",\n",
    "                \"city\",\"state\",\"postalCode\", \"country\", \"telephone\",\"locationFeatures\",\"locationHours\"]\n",
    "output = pd.DataFrame(columns = column_names)\n",
    "\n",
    "##set up list to save bad links:\n",
    "bad_links = []\n",
    "\n",
    "##sample test:\n",
    "storeLinksTest = ['https://locations.panerabread.com/al/alabaster/100-s-colonial-drive.html',\n",
    "                  'https://locations.panerabread.com/al/hoover/1790-riverchase-dr.html']\n",
    "\n",
    "##set link list to use for run:\n",
    "storeLinksRun = storeLinksTest\n",
    "# storeLinksRun = storeLinks\n",
    "\n",
    "\n",
    "##run function to pull info from individual merchant web pages:\n",
    "driver = Chrome(r\"C:\\Users\\lvincent\\/Documents\\chromedriver87.exe\")\n",
    "for link in storeLinksRun:\n",
    "    print(link)\n",
    "    df, isBad = runpull(driver, link)\n",
    "    output = output.append(df, ignore_index=True)\n",
    "    if isBad == True:\n",
    "        print('error on: ', link)\n",
    "        bad_links.append(link)\n",
    "driver.close()\n",
    "\n",
    "##set file names for output to save to (for csv and excel file):\n",
    "filecsv = 'panera_results_selenium.csv'\n",
    "filexlsx = 'panera_results_selenium.xlsx'\n",
    "\n",
    "##save output (to both csv and excel file):\n",
    "output.to_csv(filecsv)\n",
    "output.to_excel(filexlsx) \n",
    "\n",
    "output"
   ]
  },
  {
   "cell_type": "code",
   "execution_count": null,
   "metadata": {},
   "outputs": [],
   "source": []
  },
  {
   "cell_type": "code",
   "execution_count": null,
   "metadata": {},
   "outputs": [],
   "source": []
  },
  {
   "cell_type": "code",
   "execution_count": null,
   "metadata": {},
   "outputs": [],
   "source": []
  }
 ],
 "metadata": {
  "kernelspec": {
   "display_name": "Python 3",
   "language": "python",
   "name": "python3"
  },
  "language_info": {
   "codemirror_mode": {
    "name": "ipython",
    "version": 3
   },
   "file_extension": ".py",
   "mimetype": "text/x-python",
   "name": "python",
   "nbconvert_exporter": "python",
   "pygments_lexer": "ipython3",
   "version": "3.7.4"
  }
 },
 "nbformat": 4,
 "nbformat_minor": 2
}
